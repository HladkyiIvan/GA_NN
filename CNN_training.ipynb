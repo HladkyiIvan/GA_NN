{
  "nbformat": 4,
  "nbformat_minor": 0,
  "metadata": {
    "kernelspec": {
      "name": "python3",
      "display_name": "Python 3"
    },
    "language_info": {
      "codemirror_mode": {
        "name": "ipython",
        "version": 3
      },
      "file_extension": ".py",
      "mimetype": "text/x-python",
      "name": "python",
      "nbconvert_exporter": "python",
      "pygments_lexer": "ipython3",
      "version": "3.6.7"
    },
    "colab": {
      "name": "CNN_training.ipynb",
      "provenance": [],
      "collapsed_sections": [],
      "toc_visible": true,
      "machine_shape": "hm",
      "include_colab_link": true
    },
    "accelerator": "GPU"
  },
  "cells": [
    {
      "cell_type": "markdown",
      "metadata": {
        "id": "view-in-github",
        "colab_type": "text"
      },
      "source": [
        "<a href=\"https://colab.research.google.com/github/HladkyiIvan/GA_NN/blob/master/CNN_training.ipynb\" target=\"_parent\"><img src=\"https://colab.research.google.com/assets/colab-badge.svg\" alt=\"Open In Colab\"/></a>"
      ]
    },
    {
      "cell_type": "markdown",
      "metadata": {
        "id": "IKJO3xlM8hvd",
        "colab_type": "text"
      },
      "source": [
        "# Cat discriminator\n",
        "## Setup packages and environment"
      ]
    },
    {
      "cell_type": "code",
      "metadata": {
        "id": "fxjS3Dt9NSxO",
        "colab_type": "code",
        "outputId": "bb372087-5c26-4b8f-fab6-dc707eed7e0b",
        "colab": {
          "base_uri": "https://localhost:8080/",
          "height": 182
        }
      },
      "source": [
        "!git clone https://github.com/yu4u/mixup-generator.git\n",
        "%cd mixup-generator\n",
        "\n",
        "import numpy as np\n",
        "import matplotlib.pyplot as plt\n",
        "import scipy\n",
        "from PIL import Image\n",
        "from scipy import ndimage\n",
        "from sklearn.model_selection import train_test_split\n",
        "from keras.preprocessing.text import Tokenizer\n",
        "from keras.models import Sequential\n",
        "from keras.layers import Dense, Dropout, Activation, Flatten\n",
        "from keras.layers import Conv2D, MaxPooling2D, ZeroPadding2D, GlobalAveragePooling2D\n",
        "from keras.optimizers import Adam, SGD\n",
        "from keras.callbacks import ModelCheckpoint, EarlyStopping\n",
        "from keras.models import load_model, Model\n",
        "from keras.layers.normalization import BatchNormalization\n",
        "from keras.utils import np_utils\n",
        "from keras.layers.advanced_activations import LeakyReLU \n",
        "from keras.preprocessing.image import ImageDataGenerator\n",
        "from keras.utils import to_categorical\n",
        "import keras.backend as K\n",
        "import tensorflow as tf\n",
        "from numpy import asarray\n",
        "from numpy import save\n",
        "from keras.preprocessing.image import load_img\n",
        "from keras.preprocessing.image import img_to_array\n",
        "from keras import applications\n",
        "import cv2\n",
        "\n",
        "from mixup_generator import MixupGenerator\n",
        "%cd ..\n",
        "\n",
        "%matplotlib inline\n",
        "plt.rcParams['figure.figsize'] = (5.0, 4.0) # set default size of plots\n",
        "plt.rcParams['image.interpolation'] = 'nearest'\n",
        "plt.rcParams['image.cmap'] = 'gray'\n",
        "\n",
        "img_size = 60\n",
        "\n",
        "%load_ext autoreload\n",
        "%autoreload 2"
      ],
      "execution_count": 1,
      "outputs": [
        {
          "output_type": "stream",
          "text": [
            "Cloning into 'mixup-generator'...\n",
            "remote: Enumerating objects: 31, done.\u001b[K\n",
            "remote: Total 31 (delta 0), reused 0 (delta 0), pack-reused 31\u001b[K\n",
            "Unpacking objects: 100% (31/31), done.\n",
            "/content/mixup-generator\n"
          ],
          "name": "stdout"
        },
        {
          "output_type": "stream",
          "text": [
            "Using TensorFlow backend.\n"
          ],
          "name": "stderr"
        },
        {
          "output_type": "display_data",
          "data": {
            "text/html": [
              "<p style=\"color: red;\">\n",
              "The default version of TensorFlow in Colab will soon switch to TensorFlow 2.x.<br>\n",
              "We recommend you <a href=\"https://www.tensorflow.org/guide/migrate\" target=\"_blank\">upgrade</a> now \n",
              "or ensure your notebook will continue to use TensorFlow 1.x via the <code>%tensorflow_version 1.x</code> magic:\n",
              "<a href=\"https://colab.research.google.com/notebooks/tensorflow_version.ipynb\" target=\"_blank\">more info</a>.</p>\n"
            ],
            "text/plain": [
              "<IPython.core.display.HTML object>"
            ]
          },
          "metadata": {
            "tags": []
          }
        },
        {
          "output_type": "stream",
          "text": [
            "/content\n"
          ],
          "name": "stdout"
        }
      ]
    },
    {
      "cell_type": "code",
      "metadata": {
        "id": "Pk9prEVGXhJq",
        "colab_type": "code",
        "outputId": "bed17bc6-5648-49ed-c694-22aa9fa13363",
        "colab": {
          "base_uri": "https://localhost:8080/",
          "height": 34
        }
      },
      "source": [
        "tf.test.gpu_device_name()"
      ],
      "execution_count": 0,
      "outputs": [
        {
          "output_type": "execute_result",
          "data": {
            "text/plain": [
              "'/device:GPU:0'"
            ]
          },
          "metadata": {
            "tags": []
          },
          "execution_count": 3
        }
      ]
    },
    {
      "cell_type": "code",
      "metadata": {
        "id": "KR8Eiy6d8-EW",
        "colab_type": "code",
        "outputId": "ffdbf119-dd33-4057-b794-65180a2d2696",
        "colab": {
          "base_uri": "https://localhost:8080/",
          "height": 34
        }
      },
      "source": [
        "tf.__version__"
      ],
      "execution_count": 0,
      "outputs": [
        {
          "output_type": "execute_result",
          "data": {
            "text/plain": [
              "'1.15.0'"
            ]
          },
          "metadata": {
            "tags": []
          },
          "execution_count": 4
        }
      ]
    },
    {
      "cell_type": "code",
      "metadata": {
        "id": "m3HdcU78OffK",
        "colab_type": "code",
        "colab": {}
      },
      "source": [
        "def rgb2gray(rgb):\n",
        "    return np.dot(rgb[...,:3], [0.299, 0.587, 0.144])\n",
        "\n",
        "def gray_to_rgb(img):\n",
        "    return np.repeat(img, 3, 3)"
      ],
      "execution_count": 0,
      "outputs": []
    },
    {
      "cell_type": "markdown",
      "metadata": {
        "id": "w_W0R9eH9pA0",
        "colab_type": "text"
      },
      "source": [
        "## Loading dataset and preprocessing steps (use datasets providen in the description or try your own)"
      ]
    },
    {
      "cell_type": "code",
      "metadata": {
        "id": "aAioygjjPHCT",
        "colab_type": "code",
        "colab": {}
      },
      "source": [
        "photos = np.load(root_path + 'cat_photos.npy')\n",
        "labels = np.load(root_path + 'cat_labels.npy')"
      ],
      "execution_count": 0,
      "outputs": []
    },
    {
      "cell_type": "code",
      "metadata": {
        "id": "f3868ei7NSxr",
        "colab_type": "code",
        "outputId": "b5685b43-2df7-4d18-d297-49924f35880d",
        "colab": {
          "base_uri": "https://localhost:8080/",
          "height": 285
        }
      },
      "source": [
        "index = 40000\n",
        "plt.imshow(photos[index])\n",
        "print (\"y = \" + str(labels[index]))"
      ],
      "execution_count": 0,
      "outputs": [
        {
          "output_type": "stream",
          "text": [
            "y = 0.0\n"
          ],
          "name": "stdout"
        },
        {
          "output_type": "display_data",
          "data": {
            "image/png": "[encoded data removed]",
            "text/plain": [
              "<Figure size 360x288 with 1 Axes>"
            ]
          },
          "metadata": {
            "tags": []
          }
        }
      ]
    },
    {
      "cell_type": "code",
      "metadata": {
        "id": "fguktWqbNSxw",
        "colab_type": "code",
        "colab": {}
      },
      "source": [
        "train_x, test_x, train_y, test_y = train_test_split(photos, labels, test_size=0.2)"
      ],
      "execution_count": 0,
      "outputs": []
    },
    {
      "cell_type": "code",
      "metadata": {
        "id": "s33qeXdVNSx0",
        "colab_type": "code",
        "outputId": "9e24b078-17c2-4951-c855-c1b679740fca",
        "colab": {
          "base_uri": "https://localhost:8080/",
          "height": 51
        }
      },
      "source": [
        "train_x = train_x.reshape(train_x.shape[0], 60, 60, 1)\n",
        "test_x = test_x.reshape(test_x.shape[0], 60, 60, 1)\n",
        "\n",
        "print (\"train_x's shape: \" + str(train_x.shape))\n",
        "print (\"test_x's shape: \" + str(test_x.shape))\n"
      ],
      "execution_count": 0,
      "outputs": [
        {
          "output_type": "stream",
          "text": [
            "train_x's shape: (53025, 60, 60, 1)\n",
            "test_x's shape: (13257, 60, 60, 1)\n"
          ],
          "name": "stdout"
        }
      ]
    },
    {
      "cell_type": "code",
      "metadata": {
        "id": "ozTnD-K3HU4_",
        "colab_type": "code",
        "colab": {}
      },
      "source": [
        "cat_train_y = to_categorical(train_y)\n",
        "cat_test_y = to_categorical(test_y)"
      ],
      "execution_count": 0,
      "outputs": []
    },
    {
      "cell_type": "markdown",
      "metadata": {
        "id": "OeRR9pDD-e8e",
        "colab_type": "text"
      },
      "source": [
        "## Model creation"
      ]
    },
    {
      "cell_type": "code",
      "metadata": {
        "id": "awPzBKWxNSzg",
        "colab_type": "code",
        "colab": {}
      },
      "source": [
        "def build_model():\n",
        "    model = Sequential()\n",
        "  \n",
        "    model.add(Conv2D(16, (3, 3), input_shape=(img_size,img_size,1)))\n",
        "    model.add(BatchNormalization(axis=-1))\n",
        "    model.add(Activation('relu'))\n",
        "    model.add(Conv2D(16, (3, 3)))\n",
        "    model.add(BatchNormalization(axis=-1))\n",
        "    model.add(Activation('relu'))\n",
        "    model.add(Conv2D(32, (3, 3)))\n",
        "    model.add(BatchNormalization(axis=-1))\n",
        "    model.add(Activation('relu'))\n",
        "    model.add(Conv2D(32, (3, 3)))\n",
        "    model.add(BatchNormalization(axis=-1))\n",
        "    model.add(Activation('relu'))\n",
        "    model.add(MaxPooling2D(pool_size=(2,2)))\n",
        "\n",
        "    model.add(Conv2D(64,(3, 3)))\n",
        "    model.add(BatchNormalization(axis=-1))\n",
        "    model.add(Activation('relu'))\n",
        "    model.add(Conv2D(64, (3, 3)))\n",
        "    model.add(BatchNormalization(axis=-1))\n",
        "    model.add(Activation('relu'))\n",
        "    model.add(MaxPooling2D(pool_size=(2,2)))\n",
        "\n",
        "    model.add(Flatten())\n",
        "\n",
        "    model.add(Dense(512))\n",
        "    model.add(BatchNormalization())\n",
        "    model.add(Activation('relu'))\n",
        "    model.add(Dropout(0.2))\n",
        "    model.add(Dense(10))\n",
        "    model.add(Dense(2, activation='softmax'))\n",
        "    model.summary()\n",
        "\n",
        "    model.compile(loss='categorical_crossentropy',\n",
        "                  optimizer=Adam(),\n",
        "                  metrics=['accuracy'])\n",
        "\n",
        "    return model\n",
        "\n",
        "def plot_model_history(history):\n",
        "    \n",
        "    # Plot training & validation accuracy values\n",
        "    plt.plot(history.history['acc'])\n",
        "    plt.plot(history.history['val_acc'])\n",
        "    plt.title('Model accuracy')\n",
        "    plt.ylabel('Accuracy')\n",
        "    plt.xlabel('Epoch')\n",
        "    plt.legend(['Train', 'Test'], loc='upper left')\n",
        "    plt.show()\n",
        "\n",
        "    # Plot training & validation loss values\n",
        "    plt.plot(history.history['loss'])\n",
        "    plt.plot(history.history['val_loss'])\n",
        "    plt.title('Model loss')\n",
        "    plt.ylabel('Loss')\n",
        "    plt.xlabel('Epoch')\n",
        "    plt.legend(['Train', 'Test'], loc='upper left')\n",
        "    plt.show()"
      ],
      "execution_count": 0,
      "outputs": []
    },
    {
      "cell_type": "code",
      "metadata": {
        "id": "-yDxlaFjNSzn",
        "colab_type": "code",
        "colab": {}
      },
      "source": [
        "batch_size = 256\n",
        "\n",
        "gen = ImageDataGenerator()\n",
        "train_generator = MixupGenerator(train_x, cat_train_y, batch_size=batch_size, alpha=2, datagen=gen)()"
      ],
      "execution_count": 0,
      "outputs": []
    },
    {
      "cell_type": "code",
      "metadata": {
        "id": "F5kbcZDL0wIc",
        "colab_type": "code",
        "outputId": "c04c9c90-149e-4da6-fd04-37a5b74bee0f",
        "colab": {
          "base_uri": "https://localhost:8080/",
          "height": 285
        }
      },
      "source": [
        "# Example of a generated picture\n",
        "x, y = next(train_generator)\n",
        "plt.imshow(x[0].reshape(60, 60))\n",
        "print (\"y = \" + str(y[0]))"
      ],
      "execution_count": 0,
      "outputs": [
        {
          "output_type": "stream",
          "text": [
            "y = [0.48687326 0.51312674]\n"
          ],
          "name": "stdout"
        },
        {
          "output_type": "display_data",
          "data": {
            "image/png": "[encoded data removed]",
            "text/plain": [
              "<Figure size 360x288 with 1 Axes>"
            ]
          },
          "metadata": {
            "tags": []
          }
        }
      ]
    },
    {
      "cell_type": "code",
      "metadata": {
        "id": "piN8XXbFz-OQ",
        "colab_type": "code",
        "outputId": "e2e134b8-1267-41c5-895f-9c52e7d9f39d",
        "colab": {
          "base_uri": "https://localhost:8080/",
          "height": 1000
        }
      },
      "source": [
        "model = build_model()\n",
        "history = model.fit_generator(generator=train_generator,\n",
        "                    steps_per_epoch=train_x.shape[0] // batch_size,\n",
        "                    validation_data=(test_x, cat_test_y),\n",
        "                    epochs=5, verbose=1)"
      ],
      "execution_count": 0,
      "outputs": [
        {
          "output_type": "stream",
          "text": [
            "Model: \"sequential_2\"\n",
            "_________________________________________________________________\n",
            "Layer (type)                 Output Shape              Param #   \n",
            "=================================================================\n",
            "conv2d_7 (Conv2D)            (None, 58, 58, 16)        160       \n",
            "_________________________________________________________________\n",
            "batch_normalization_8 (Batch (None, 58, 58, 16)        64        \n",
            "_________________________________________________________________\n",
            "activation_106 (Activation)  (None, 58, 58, 16)        0         \n",
            "_________________________________________________________________\n",
            "conv2d_8 (Conv2D)            (None, 56, 56, 16)        2320      \n",
            "_________________________________________________________________\n",
            "batch_normalization_9 (Batch (None, 56, 56, 16)        64        \n",
            "_________________________________________________________________\n",
            "activation_107 (Activation)  (None, 56, 56, 16)        0         \n",
            "_________________________________________________________________\n",
            "conv2d_9 (Conv2D)            (None, 54, 54, 32)        4640      \n",
            "_________________________________________________________________\n",
            "batch_normalization_10 (Batc (None, 54, 54, 32)        128       \n",
            "_________________________________________________________________\n",
            "activation_108 (Activation)  (None, 54, 54, 32)        0         \n",
            "_________________________________________________________________\n",
            "conv2d_10 (Conv2D)           (None, 52, 52, 32)        9248      \n",
            "_________________________________________________________________\n",
            "batch_normalization_11 (Batc (None, 52, 52, 32)        128       \n",
            "_________________________________________________________________\n",
            "activation_109 (Activation)  (None, 52, 52, 32)        0         \n",
            "_________________________________________________________________\n",
            "max_pooling2d_5 (MaxPooling2 (None, 26, 26, 32)        0         \n",
            "_________________________________________________________________\n",
            "conv2d_11 (Conv2D)           (None, 24, 24, 64)        18496     \n",
            "_________________________________________________________________\n",
            "batch_normalization_12 (Batc (None, 24, 24, 64)        256       \n",
            "_________________________________________________________________\n",
            "activation_110 (Activation)  (None, 24, 24, 64)        0         \n",
            "_________________________________________________________________\n",
            "conv2d_12 (Conv2D)           (None, 22, 22, 64)        36928     \n",
            "_________________________________________________________________\n",
            "batch_normalization_13 (Batc (None, 22, 22, 64)        256       \n",
            "_________________________________________________________________\n",
            "activation_111 (Activation)  (None, 22, 22, 64)        0         \n",
            "_________________________________________________________________\n",
            "max_pooling2d_6 (MaxPooling2 (None, 11, 11, 64)        0         \n",
            "_________________________________________________________________\n",
            "flatten_2 (Flatten)          (None, 7744)              0         \n",
            "_________________________________________________________________\n",
            "dense_8 (Dense)              (None, 512)               3965440   \n",
            "_________________________________________________________________\n",
            "batch_normalization_14 (Batc (None, 512)               2048      \n",
            "_________________________________________________________________\n",
            "activation_112 (Activation)  (None, 512)               0         \n",
            "_________________________________________________________________\n",
            "dropout_6 (Dropout)          (None, 512)               0         \n",
            "_________________________________________________________________\n",
            "dense_9 (Dense)              (None, 10)                5130      \n",
            "_________________________________________________________________\n",
            "dense_10 (Dense)             (None, 2)                 22        \n",
            "=================================================================\n",
            "Total params: 4,045,328\n",
            "Trainable params: 4,043,856\n",
            "Non-trainable params: 1,472\n",
            "_________________________________________________________________\n",
            "Epoch 1/5\n",
            "207/207 [==============================] - 23s 113ms/step - loss: 0.4356 - acc: 0.9427 - val_loss: 0.0867 - val_acc: 1.0000\n",
            "Epoch 2/5\n",
            "207/207 [==============================] - 14s 69ms/step - loss: 0.3207 - acc: 0.9685 - val_loss: 0.2721 - val_acc: 0.9238\n",
            "Epoch 3/5\n",
            "207/207 [==============================] - 14s 69ms/step - loss: 0.3118 - acc: 0.9728 - val_loss: 0.0491 - val_acc: 0.9990\n",
            "Epoch 4/5\n",
            "207/207 [==============================] - 14s 70ms/step - loss: 0.3104 - acc: 0.9776 - val_loss: 0.0273 - val_acc: 0.9962\n",
            "Epoch 5/5\n",
            "207/207 [==============================] - 14s 69ms/step - loss: 0.3089 - acc: 0.9797 - val_loss: 0.0214 - val_acc: 0.9959\n"
          ],
          "name": "stdout"
        }
      ]
    },
    {
      "cell_type": "markdown",
      "metadata": {
        "id": "Ko6zbkbq_knM",
        "colab_type": "text"
      },
      "source": [
        "## How good is the model?"
      ]
    },
    {
      "cell_type": "code",
      "metadata": {
        "id": "uMQiezCD-VHu",
        "colab_type": "code",
        "outputId": "b5009381-013f-4824-879e-3ec794ac5de9",
        "colab": {
          "base_uri": "https://localhost:8080/",
          "height": 302
        }
      },
      "source": [
        "x, y = next(train_generator)\n",
        "plt.imshow(x[0].reshape(60, 60))\n",
        "pred = model.predict_proba(x[0].reshape(1, 60, 60, 1))\n",
        "print (\"y = \" + str(y[0]))\n",
        "print (\"predicted y = \" + str([round(p, 4) for p in pred[0]]))"
      ],
      "execution_count": 0,
      "outputs": [
        {
          "output_type": "stream",
          "text": [
            "y = [0.39640465 0.60359535]\n",
            "predicted y = [0.3307, 0.6693]\n"
          ],
          "name": "stdout"
        },
        {
          "output_type": "display_data",
          "data": {
            "image/png": "[encoded data removed]",
            "text/plain": [
              "<Figure size 360x288 with 1 Axes>"
            ]
          },
          "metadata": {
            "tags": []
          }
        }
      ]
    },
    {
      "cell_type": "code",
      "metadata": {
        "id": "2itXVYQQ_ujX",
        "colab_type": "code",
        "outputId": "0f5f25a8-0640-4cb0-febd-b519d85d1d48",
        "colab": {
          "base_uri": "https://localhost:8080/",
          "height": 34
        }
      },
      "source": [
        "model.save('drive/My Drive/Colab Notebooks/cat_model')"
      ],
      "execution_count": 0,
      "outputs": [
        {
          "output_type": "stream",
          "text": [
            "/content\n"
          ],
          "name": "stdout"
        }
      ]
    },
    {
      "cell_type": "markdown",
      "metadata": {
        "id": "Up7SMOE4z-7u",
        "colab_type": "text"
      },
      "source": [
        "## ResNet"
      ]
    },
    {
      "cell_type": "code",
      "metadata": {
        "id": "9rp2r09PBBPr",
        "colab_type": "code",
        "colab": {}
      },
      "source": [
        "base_model = applications.resnet50.ResNet50(weights= \"imagenet\", include_top=False, input_shape= (img_size, img_size, 3))"
      ],
      "execution_count": 0,
      "outputs": []
    },
    {
      "cell_type": "code",
      "metadata": {
        "id": "ehn6x50oBf6d",
        "colab_type": "code",
        "outputId": "b23edd01-80fb-4344-ef8a-aa0b88d12544",
        "colab": {
          "base_uri": "https://localhost:8080/",
          "height": 51
        }
      },
      "source": [
        "res_train_x = gray_to_rgb(train_x)\n",
        "res_test_x = gray_to_rgb(test_x)\n",
        "\n",
        "print (\"train_x's shape: \" + str(res_train_x.shape))\n",
        "print (\"test_x's shape: \" + str(res_test_x.shape))"
      ],
      "execution_count": 0,
      "outputs": [
        {
          "output_type": "stream",
          "text": [
            "train_x's shape: (53025, 60, 60, 3)\n",
            "test_x's shape: (13257, 60, 60, 3)\n"
          ],
          "name": "stdout"
        }
      ]
    },
    {
      "cell_type": "code",
      "metadata": {
        "id": "7VkYMpGXEII6",
        "colab_type": "code",
        "colab": {}
      },
      "source": [
        "res_train_generator = MixupGenerator(res_train_x, cat_train_y, batch_size=batch_size, alpha=2, datagen=gen)()"
      ],
      "execution_count": 0,
      "outputs": []
    },
    {
      "cell_type": "code",
      "metadata": {
        "id": "5BgquJ9OCFn_",
        "colab_type": "code",
        "outputId": "ae8b00af-3c78-4396-9fde-0028cd5352ad",
        "colab": {
          "base_uri": "https://localhost:8080/",
          "height": 54
        }
      },
      "source": [
        "x = base_model.output\n",
        "x = GlobalAveragePooling2D()(x)\n",
        "x = Dropout(0.65)(x)\n",
        "predictions = Dense(2, activation= 'softmax')(x)\n",
        "res_model = Model(inputs = base_model.input, outputs = predictions)\n",
        "res_model.compile(optimizer= Adam(lr=0.00005), loss='categorical_crossentropy', metrics=['accuracy'])"
      ],
      "execution_count": 0,
      "outputs": [
        {
          "output_type": "stream",
          "text": [
            "WARNING:tensorflow:Large dropout rate: 0.65 (>0.5). In TensorFlow 2.x, dropout() uses dropout rate instead of keep_prob. Please ensure that this is intended.\n"
          ],
          "name": "stdout"
        }
      ]
    },
    {
      "cell_type": "code",
      "metadata": {
        "id": "-KXOWc9ACqVX",
        "colab_type": "code",
        "outputId": "d72ddf09-ed7f-4d39-bcbf-94ce57e1e9d9",
        "colab": {
          "base_uri": "https://localhost:8080/",
          "height": 743
        }
      },
      "source": [
        "es = EarlyStopping(monitor='val_loss', mode='min', verbose=1, patience=5)\n",
        "history = res_model.fit_generator(generator=res_train_generator,\n",
        "                    steps_per_epoch=res_train_x.shape[0] // batch_size,\n",
        "                    validation_data=(res_test_x, cat_test_y),\n",
        "                    epochs=5, verbose=1, callbacks=[es])\n",
        "\n",
        "plot_model_history(history)"
      ],
      "execution_count": 0,
      "outputs": [
        {
          "output_type": "stream",
          "text": [
            "Epoch 1/5\n",
            "207/207 [==============================] - 61s 295ms/step - loss: 0.3950 - acc: 0.9115 - val_loss: 0.0221 - val_acc: 0.9992\n",
            "Epoch 2/5\n",
            "207/207 [==============================] - 43s 206ms/step - loss: 0.3241 - acc: 0.9543 - val_loss: 0.0370 - val_acc: 0.9995\n",
            "Epoch 3/5\n",
            "207/207 [==============================] - 43s 206ms/step - loss: 0.3142 - acc: 0.9651 - val_loss: 0.0324 - val_acc: 0.9996\n",
            "Epoch 4/5\n",
            "207/207 [==============================] - 43s 205ms/step - loss: 0.3125 - acc: 0.9677 - val_loss: 0.0246 - val_acc: 0.9997\n",
            "Epoch 5/5\n",
            "207/207 [==============================] - 43s 206ms/step - loss: 0.3067 - acc: 0.9723 - val_loss: 0.0248 - val_acc: 0.9997\n"
          ],
          "name": "stdout"
        },
        {
          "output_type": "display_data",
          "data": {
            "image/png": "[encoded data removed]",
            "text/plain": [
              "<Figure size 360x288 with 1 Axes>"
            ]
          },
          "metadata": {
            "tags": []
          }
        },
        {
          "output_type": "display_data",
          "data": {
            "image/png": "[encoded data removed]",
            "text/plain": [
              "<Figure size 360x288 with 1 Axes>"
            ]
          },
          "metadata": {
            "tags": []
          }
        }
      ]
    },
    {
      "cell_type": "code",
      "metadata": {
        "id": "_Tat87DpNS0g",
        "colab_type": "code",
        "outputId": "435dc516-a90b-4e57-b361-8bd48b93f7ca",
        "colab": {
          "base_uri": "https://localhost:8080/",
          "height": 34
        }
      },
      "source": [
        "_, train_acc = res_model.evaluate(res_train_x, cat_train_y, verbose=0)\n",
        "_, test_acc = res_model.evaluate(res_test_x, cat_test_y, verbose=0)\n",
        "print('Train: %.3f, Test: %.3f' % (train_acc, test_acc))"
      ],
      "execution_count": 0,
      "outputs": [
        {
          "output_type": "stream",
          "text": [
            "Train: 1.000, Test: 1.000\n"
          ],
          "name": "stdout"
        }
      ]
    },
    {
      "cell_type": "markdown",
      "metadata": {
        "id": "thengiBdFdOG",
        "colab_type": "text"
      },
      "source": [
        "## Try your photos"
      ]
    },
    {
      "cell_type": "code",
      "metadata": {
        "id": "LQPEUo4mNS0n",
        "colab_type": "code",
        "outputId": "09650c62-b0e1-4841-d198-67879a109c41",
        "colab": {
          "base_uri": "https://localhost:8080/",
          "height": 285
        }
      },
      "source": [
        "photo = load_img(root_path + 'bender.jpg', target_size=(60, 60))\n",
        "\n",
        "photo = img_to_array(photo)\n",
        "photo = rgb2gray(photo)\n",
        "plt.imshow(photo)\n",
        "\n",
        "photo = photo.reshape(1, 60, 60, 1)\n",
        "photo = gray_to_rgb(photo)\n",
        "photo /= 255.\n",
        "\n",
        "pred = res_model.predict(photo)\n",
        "print(round(pred[0][0], 4), round(pred[0][1], 4))"
      ],
      "execution_count": 0,
      "outputs": [
        {
          "output_type": "stream",
          "text": [
            "0.0463 0.9537\n"
          ],
          "name": "stdout"
        },
        {
          "output_type": "display_data",
          "data": {
            "image/png": "[encoded data removed]",
            "text/plain": [
              "<Figure size 360x288 with 1 Axes>"
            ]
          },
          "metadata": {
            "tags": []
          }
        }
      ]
    },
    {
      "cell_type": "code",
      "metadata": {
        "id": "HywHl34iqKaR",
        "colab_type": "code",
        "colab": {}
      },
      "source": [
        "model.save('drive/My Drive/Colab Notebooks/cat_resnet.h5')"
      ],
      "execution_count": 0,
      "outputs": []
    },
    {
      "cell_type": "markdown",
      "metadata": {
        "id": "Kx3kw7oTp6De",
        "colab_type": "text"
      },
      "source": [
        "# Visualization experiments"
      ]
    },
    {
      "cell_type": "code",
      "metadata": {
        "id": "eTgonwxfqJ0d",
        "colab_type": "code",
        "outputId": "76fd9030-d29b-4634-af84-dcab21f1edd8",
        "colab": {
          "base_uri": "https://localhost:8080/",
          "height": 683
        }
      },
      "source": [
        "model = load_model('drive/My Drive/Colab Notebooks/cat_model.h5')"
      ],
      "execution_count": 0,
      "outputs": [
        {
          "output_type": "stream",
          "text": [
            "WARNING:tensorflow:From /usr/local/lib/python3.6/dist-packages/keras/backend/tensorflow_backend.py:541: The name tf.placeholder is deprecated. Please use tf.compat.v1.placeholder instead.\n",
            "\n",
            "WARNING:tensorflow:From /usr/local/lib/python3.6/dist-packages/keras/backend/tensorflow_backend.py:4432: The name tf.random_uniform is deprecated. Please use tf.random.uniform instead.\n",
            "\n",
            "WARNING:tensorflow:From /usr/local/lib/python3.6/dist-packages/keras/backend/tensorflow_backend.py:66: The name tf.get_default_graph is deprecated. Please use tf.compat.v1.get_default_graph instead.\n",
            "\n",
            "WARNING:tensorflow:From /usr/local/lib/python3.6/dist-packages/keras/backend/tensorflow_backend.py:190: The name tf.get_default_session is deprecated. Please use tf.compat.v1.get_default_session instead.\n",
            "\n",
            "WARNING:tensorflow:From /usr/local/lib/python3.6/dist-packages/keras/backend/tensorflow_backend.py:197: The name tf.ConfigProto is deprecated. Please use tf.compat.v1.ConfigProto instead.\n",
            "\n",
            "WARNING:tensorflow:From /usr/local/lib/python3.6/dist-packages/keras/backend/tensorflow_backend.py:203: The name tf.Session is deprecated. Please use tf.compat.v1.Session instead.\n",
            "\n",
            "WARNING:tensorflow:From /usr/local/lib/python3.6/dist-packages/keras/backend/tensorflow_backend.py:207: The name tf.global_variables is deprecated. Please use tf.compat.v1.global_variables instead.\n",
            "\n",
            "WARNING:tensorflow:From /usr/local/lib/python3.6/dist-packages/keras/backend/tensorflow_backend.py:216: The name tf.is_variable_initialized is deprecated. Please use tf.compat.v1.is_variable_initialized instead.\n",
            "\n",
            "WARNING:tensorflow:From /usr/local/lib/python3.6/dist-packages/keras/backend/tensorflow_backend.py:223: The name tf.variables_initializer is deprecated. Please use tf.compat.v1.variables_initializer instead.\n",
            "\n",
            "WARNING:tensorflow:From /usr/local/lib/python3.6/dist-packages/keras/backend/tensorflow_backend.py:2041: The name tf.nn.fused_batch_norm is deprecated. Please use tf.compat.v1.nn.fused_batch_norm instead.\n",
            "\n",
            "WARNING:tensorflow:From /usr/local/lib/python3.6/dist-packages/keras/backend/tensorflow_backend.py:148: The name tf.placeholder_with_default is deprecated. Please use tf.compat.v1.placeholder_with_default instead.\n",
            "\n",
            "WARNING:tensorflow:From /usr/local/lib/python3.6/dist-packages/keras/backend/tensorflow_backend.py:4267: The name tf.nn.max_pool is deprecated. Please use tf.nn.max_pool2d instead.\n",
            "\n",
            "WARNING:tensorflow:From /usr/local/lib/python3.6/dist-packages/keras/backend/tensorflow_backend.py:3733: calling dropout (from tensorflow.python.ops.nn_ops) with keep_prob is deprecated and will be removed in a future version.\n",
            "Instructions for updating:\n",
            "Please use `rate` instead of `keep_prob`. Rate should be set to `rate = 1 - keep_prob`.\n",
            "WARNING:tensorflow:From /usr/local/lib/python3.6/dist-packages/keras/optimizers.py:793: The name tf.train.Optimizer is deprecated. Please use tf.compat.v1.train.Optimizer instead.\n",
            "\n",
            "WARNING:tensorflow:From /usr/local/lib/python3.6/dist-packages/keras/backend/tensorflow_backend.py:3576: The name tf.log is deprecated. Please use tf.math.log instead.\n",
            "\n",
            "WARNING:tensorflow:From /usr/local/lib/python3.6/dist-packages/tensorflow_core/python/ops/math_grad.py:1424: where (from tensorflow.python.ops.array_ops) is deprecated and will be removed in a future version.\n",
            "Instructions for updating:\n",
            "Use tf.where in 2.0, which has the same broadcast rule as np.where\n",
            "WARNING:tensorflow:From /usr/local/lib/python3.6/dist-packages/keras/backend/tensorflow_backend.py:1033: The name tf.assign_add is deprecated. Please use tf.compat.v1.assign_add instead.\n",
            "\n",
            "WARNING:tensorflow:From /usr/local/lib/python3.6/dist-packages/keras/backend/tensorflow_backend.py:1020: The name tf.assign is deprecated. Please use tf.compat.v1.assign instead.\n",
            "\n"
          ],
          "name": "stdout"
        }
      ]
    },
    {
      "cell_type": "code",
      "metadata": {
        "id": "zkuFNl4AwaWz",
        "colab_type": "code",
        "outputId": "143cbef6-4e44-4eee-9532-417aece26835",
        "colab": {
          "base_uri": "https://localhost:8080/",
          "height": 598
        }
      },
      "source": [
        "!pip install -U git+git://github.com/raghakot/keras-vis.git"
      ],
      "execution_count": 0,
      "outputs": [
        {
          "output_type": "stream",
          "text": [
            "Collecting git+git://github.com/raghakot/keras-vis.git\n",
            "  Cloning git://github.com/raghakot/keras-vis.git to /tmp/pip-req-build-d4b32oap\n",
            "  Running command git clone -q git://github.com/raghakot/keras-vis.git /tmp/pip-req-build-d4b32oap\n",
            "Requirement already satisfied, skipping upgrade: keras>=2.0 in /usr/local/lib/python3.6/dist-packages (from keras-vis==0.5.0) (2.2.5)\n",
            "Requirement already satisfied, skipping upgrade: six in /usr/local/lib/python3.6/dist-packages (from keras-vis==0.5.0) (1.12.0)\n",
            "Requirement already satisfied, skipping upgrade: scikit-image in /usr/local/lib/python3.6/dist-packages (from keras-vis==0.5.0) (0.16.2)\n",
            "Requirement already satisfied, skipping upgrade: matplotlib in /usr/local/lib/python3.6/dist-packages (from keras-vis==0.5.0) (3.1.2)\n",
            "Requirement already satisfied, skipping upgrade: h5py in /usr/local/lib/python3.6/dist-packages (from keras-vis==0.5.0) (2.8.0)\n",
            "Requirement already satisfied, skipping upgrade: keras-preprocessing>=1.1.0 in /usr/local/lib/python3.6/dist-packages (from keras>=2.0->keras-vis==0.5.0) (1.1.0)\n",
            "Requirement already satisfied, skipping upgrade: pyyaml in /usr/local/lib/python3.6/dist-packages (from keras>=2.0->keras-vis==0.5.0) (3.13)\n",
            "Requirement already satisfied, skipping upgrade: numpy>=1.9.1 in /usr/local/lib/python3.6/dist-packages (from keras>=2.0->keras-vis==0.5.0) (1.17.5)\n",
            "Requirement already satisfied, skipping upgrade: keras-applications>=1.0.8 in /usr/local/lib/python3.6/dist-packages (from keras>=2.0->keras-vis==0.5.0) (1.0.8)\n",
            "Requirement already satisfied, skipping upgrade: scipy>=0.14 in /usr/local/lib/python3.6/dist-packages (from keras>=2.0->keras-vis==0.5.0) (1.4.1)\n",
            "Requirement already satisfied, skipping upgrade: networkx>=2.0 in /usr/local/lib/python3.6/dist-packages (from scikit-image->keras-vis==0.5.0) (2.4)\n",
            "Requirement already satisfied, skipping upgrade: pillow>=4.3.0 in /usr/local/lib/python3.6/dist-packages (from scikit-image->keras-vis==0.5.0) (6.2.2)\n",
            "Requirement already satisfied, skipping upgrade: imageio>=2.3.0 in /usr/local/lib/python3.6/dist-packages (from scikit-image->keras-vis==0.5.0) (2.4.1)\n",
            "Requirement already satisfied, skipping upgrade: PyWavelets>=0.4.0 in /usr/local/lib/python3.6/dist-packages (from scikit-image->keras-vis==0.5.0) (1.1.1)\n",
            "Requirement already satisfied, skipping upgrade: python-dateutil>=2.1 in /usr/local/lib/python3.6/dist-packages (from matplotlib->keras-vis==0.5.0) (2.6.1)\n",
            "Requirement already satisfied, skipping upgrade: pyparsing!=2.0.4,!=2.1.2,!=2.1.6,>=2.0.1 in /usr/local/lib/python3.6/dist-packages (from matplotlib->keras-vis==0.5.0) (2.4.6)\n",
            "Requirement already satisfied, skipping upgrade: cycler>=0.10 in /usr/local/lib/python3.6/dist-packages (from matplotlib->keras-vis==0.5.0) (0.10.0)\n",
            "Requirement already satisfied, skipping upgrade: kiwisolver>=1.0.1 in /usr/local/lib/python3.6/dist-packages (from matplotlib->keras-vis==0.5.0) (1.1.0)\n",
            "Requirement already satisfied, skipping upgrade: decorator>=4.3.0 in /usr/local/lib/python3.6/dist-packages (from networkx>=2.0->scikit-image->keras-vis==0.5.0) (4.4.1)\n",
            "Requirement already satisfied, skipping upgrade: setuptools in /usr/local/lib/python3.6/dist-packages (from kiwisolver>=1.0.1->matplotlib->keras-vis==0.5.0) (42.0.2)\n",
            "Building wheels for collected packages: keras-vis\n",
            "  Building wheel for keras-vis (setup.py) ... \u001b[?25l\u001b[?25hdone\n",
            "  Created wheel for keras-vis: filename=keras_vis-0.5.0-py2.py3-none-any.whl size=38887 sha256=b3c90c680188f44db19085794630a98f570877a521b30261846b4e00c5abb9f1\n",
            "  Stored in directory: /tmp/pip-ephem-wheel-cache-hwve2kou/wheels/ff/01/8e/3a66d951f9b53f9894a010107b05253fb9a6c6f2555a5aaeca\n",
            "Successfully built keras-vis\n",
            "Installing collected packages: keras-vis\n",
            "  Found existing installation: keras-vis 0.4.1\n",
            "    Uninstalling keras-vis-0.4.1:\n",
            "      Successfully uninstalled keras-vis-0.4.1\n",
            "Successfully installed keras-vis-0.5.0\n"
          ],
          "name": "stdout"
        }
      ]
    },
    {
      "cell_type": "code",
      "metadata": {
        "id": "Leg2DBjdqPEU",
        "colab_type": "code",
        "colab": {}
      },
      "source": [
        "from vis.utils import utils\n",
        "from keras import activations\n",
        "\n",
        "import warnings\n",
        "warnings.filterwarnings('ignore')\n",
        "\n",
        "# Swap softmax with linear\n",
        "model.layers[-1].activation = activations.linear\n",
        "model = utils.apply_modifications(model)"
      ],
      "execution_count": 0,
      "outputs": []
    },
    {
      "cell_type": "code",
      "metadata": {
        "id": "t5hYCopf0A4U",
        "colab_type": "code",
        "outputId": "49cb8571-684f-4364-bd59-4028fb6a276a",
        "colab": {
          "base_uri": "https://localhost:8080/",
          "height": 34
        }
      },
      "source": [
        "# Load noisy \"cat\" pict\n",
        "pics = np.load(root_path + 'top.npy')\n",
        "pics.shape"
      ],
      "execution_count": 0,
      "outputs": [
        {
          "output_type": "execute_result",
          "data": {
            "text/plain": [
              "(10, 60, 60)"
            ]
          },
          "metadata": {
            "tags": []
          },
          "execution_count": 114
        }
      ]
    },
    {
      "cell_type": "code",
      "metadata": {
        "id": "5LPmndTdqb-s",
        "colab_type": "code",
        "outputId": "ffd4b705-4d67-477f-ea56-6ead760675ae",
        "colab": {
          "base_uri": "https://localhost:8080/",
          "height": 330
        }
      },
      "source": [
        "from vis.visualization import visualize_saliency, overlay\n",
        "\n",
        "plt.rcParams['figure.figsize'] = (15, 5)\n",
        "f, ax = plt.subplots(1, 3)\n",
        "\n",
        "print('Example of how it should be:')\n",
        "\n",
        "cat_img = load_img(root_path + 'bender.jpg', target_size=(60, 60))\n",
        "cat_img = img_to_array(cat_img)\n",
        "cat_img = rgb2gray(cat_img)\n",
        "\n",
        "ax[0].imshow(cat_img.reshape(60, 60))\n",
        "\n",
        "cat_img = cat_img.reshape(1, 60, 60, 1)\n",
        "cat_img /= 255.\n",
        "\n",
        "grads_slc = visualize_saliency(model, -1, filter_indices=1, seed_input=cat_img)\n",
        "ax[1].imshow(grads_slc, cmap='jet')\n",
        "\n",
        "grads = visualize_saliency(model, -1, filter_indices=1, seed_input=cat_img, backprop_modifier='guided')\n",
        "ax[2].imshow(grads, cmap='jet')\n"
      ],
      "execution_count": 0,
      "outputs": [
        {
          "output_type": "stream",
          "text": [
            "Example of how it should be:\n"
          ],
          "name": "stdout"
        },
        {
          "output_type": "execute_result",
          "data": {
            "text/plain": [
              "<matplotlib.image.AxesImage at 0x7fe21acfcf60>"
            ]
          },
          "metadata": {
            "tags": []
          },
          "execution_count": 115
        },
        {
          "output_type": "display_data",
          "data": {
            "image/png": "[encoded data removed]",
            "text/plain": [
              "<Figure size 1080x360 with 3 Axes>"
            ]
          },
          "metadata": {
            "tags": []
          }
        }
      ]
    }
  ]
}